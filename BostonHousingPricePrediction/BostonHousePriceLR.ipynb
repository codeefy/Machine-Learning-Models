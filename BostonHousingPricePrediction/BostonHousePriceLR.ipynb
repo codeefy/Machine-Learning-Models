{
 "cells": [
  {
   "cell_type": "markdown",
   "metadata": {},
   "source": [
    "**Understanding Boston Housing Dataset**\n",
    "**Dataset: Boston Housing Dataset (Kaggle)**\n",
    "\n",
    "- It is the most common dataset that is used by ML learners to understand how Multiple Linear Regression works. This dataset contains information collected from the U.S. Census about housing in the suburbs of Boston. The dataset contains 14 columns (features) with labels like average number of rooms (RM), per capita crime rate (CRIM), etc.\n",
    "\n",
    "- All the features of the dataset are as follows:\n",
    "\n",
    "- CRIM : per capita crime rate by town\n",
    "ZN : proportion of residential land zoned for lots over 25,000 sq.ft.\n",
    "INDUS : proportion of non-retail business acres per town.\n",
    "CHAS : Charles River dummy variable (1 if tract bounds river; 0 otherwise)\n",
    "NOX : nitric oxides concentration (parts per 10 million)\n",
    "RM : average number of rooms per dwelling\n",
    "AGE : proportion of owner-occupied units built prior to 1940\n",
    "DIS : weighted distances to five Boston employment centres\n",
    "RAD : index of accessibility to radial highways\n",
    "TAX : full-value property-tax rate per $10,000\n",
    "PTRATIO : pupil-teacher ratio by town\n",
    "B : 1000(Bk – 0.63)2 where Bk is the proportion of blacks by town\n",
    "LSTAT : % lower status of the population\n",
    "MEDV : Median value of owner-occupied homes in $1000’s\n"
   ]
  },
  {
   "cell_type": "code",
   "execution_count": null,
   "metadata": {},
   "outputs": [],
   "source": []
  }
 ],
 "metadata": {
  "language_info": {
   "name": "python"
  }
 },
 "nbformat": 4,
 "nbformat_minor": 2
}
