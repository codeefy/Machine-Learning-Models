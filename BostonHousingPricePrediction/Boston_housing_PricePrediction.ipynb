{
 "cells": [
  {
   "cell_type": "markdown",
   "metadata": {},
   "source": [
    "# Practical Machine Learning Project in Python on House Prices Data\n"
   ]
  },
  {
   "cell_type": "markdown",
   "metadata": {},
   "source": [
    "**Introduction**\n"
   ]
  },
  {
   "cell_type": "markdown",
   "metadata": {},
   "source": [
    "**Table of Contents**\n",
    "- Process of Machine Learning Predictions\n",
    "- Housing Data Set\n",
    "- Understand the problem\n",
    "- Hypothesis Generation\n",
    "- Get Data\n",
    "- Data Exploration\n",
    "- Data Pre-Processing\n",
    "- Feature Engineering - Create 331 new features\n",
    "- Model Training - XGBoost, Neural Network, Lasso\n",
    "- Model Evaluation"
   ]
  }
 ],
 "metadata": {
  "language_info": {
   "name": "python"
  }
 },
 "nbformat": 4,
 "nbformat_minor": 2
}
